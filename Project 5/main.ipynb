{
 "metadata": {
  "language_info": {
   "codemirror_mode": {
    "name": "ipython",
    "version": 3
   },
   "file_extension": ".py",
   "mimetype": "text/x-python",
   "name": "python",
   "nbconvert_exporter": "python",
   "pygments_lexer": "ipython3",
   "version": "3.8.2"
  },
  "orig_nbformat": 2,
  "kernelspec": {
   "name": "python382jvsc74a57bd031f2aee4e71d21fbe5cf8b01ff0e069b9275f58929596ceb00d14d90e3e16cd6",
   "display_name": "Python 3.8.2 64-bit"
  },
  "metadata": {
   "interpreter": {
    "hash": "31f2aee4e71d21fbe5cf8b01ff0e069b9275f58929596ceb00d14d90e3e16cd6"
   }
  }
 },
 "nbformat": 4,
 "nbformat_minor": 2,
 "cells": [
  {
   "source": [
    "Author: Irem Ecem Yelkanat\n",
    "ID: 21702624"
   ],
   "cell_type": "markdown",
   "metadata": {}
  },
  {
   "cell_type": "code",
   "execution_count": 12,
   "metadata": {},
   "outputs": [],
   "source": [
    "%matplotlib widget"
   ]
  },
  {
   "cell_type": "code",
   "execution_count": 13,
   "metadata": {},
   "outputs": [],
   "source": [
    "#from ipywidgets import interact, interactive, fixed, interact_manual\n",
    "#import ipywidgets as widgets\n",
    "import matplotlib.pyplot as plt"
   ]
  },
  {
   "cell_type": "code",
   "execution_count": 14,
   "metadata": {},
   "outputs": [],
   "source": [
    "import warnings\n",
    "warnings.filterwarnings('ignore') "
   ]
  },
  {
   "cell_type": "code",
   "execution_count": 15,
   "metadata": {},
   "outputs": [],
   "source": [
    "# Import necessary packages\n",
    "\n",
    "from sklearn.metrics import accuracy_score\n",
    "from sklearn.model_selection import train_test_split\n",
    "\n",
    "from skmultiflow.data.sea_generator import SEAGenerator\n",
    "from skmultiflow.meta import BatchIncrementalClassifier\n",
    "\n",
    "from skmultiflow.trees import HoeffdingTreeClassifier\n",
    "from skmultiflow.lazy import KNNClassifier\n",
    "from sklearn.neural_network import MLPClassifier\n",
    "\n",
    "from skmultiflow.evaluation import EvaluatePrequential\n",
    "from skmultiflow.data.file_stream import FileStream\n",
    "\n",
    "from sklearn.ensemble import VotingClassifier\n",
    "\n",
    "import numpy as np\n",
    "import pandas as pd\n",
    "\n",
    "np.random.seed(1)"
   ]
  },
  {
   "source": [
    "## Dataset Generation"
   ],
   "cell_type": "markdown",
   "metadata": {}
  },
  {
   "cell_type": "code",
   "execution_count": 16,
   "metadata": {},
   "outputs": [],
   "source": [
    "sea_dataset_generated = SEAGenerator(random_state=42)\n",
    "sea_dataset = sea_dataset_generated.next_sample(20000)\n",
    "sea_dataset = np.append(sea_dataset[0], np.reshape(sea_dataset[1], (20000,1)), axis=1)\n",
    "sea_dataset_df = pd.DataFrame(sea_dataset)\n",
    "sea_dataset_df = sea_dataset_df.astype({3: int})\n",
    "sea_dataset_df.to_csv(\"SEA Dataset.csv\", index=False)"
   ]
  },
  {
   "cell_type": "code",
   "execution_count": 17,
   "metadata": {},
   "outputs": [],
   "source": [
    "sea_dataset_generated_10 = SEAGenerator(random_state=42, noise_percentage=0.10)\n",
    "sea_dataset_10 = sea_dataset_generated_10.next_sample(20000)\n",
    "sea_dataset_10 = np.append(sea_dataset_10[0], np.reshape(sea_dataset_10[1], (20000,1)), axis=1)\n",
    "sea_dataset_df_10 = pd.DataFrame(sea_dataset_10)\n",
    "sea_dataset_df_10 = sea_dataset_df_10.astype({3: int})\n",
    "sea_dataset_df_10.to_csv(\"SEA Dataset 10.csv\", index=False)"
   ]
  },
  {
   "cell_type": "code",
   "execution_count": 18,
   "metadata": {},
   "outputs": [],
   "source": [
    "sea_dataset_generated_70 = SEAGenerator(random_state=42, noise_percentage=0.70)\n",
    "sea_dataset_70 = sea_dataset_generated_70.next_sample(20000)\n",
    "sea_dataset_70 = np.append(sea_dataset_70[0], np.reshape(sea_dataset_70[1], (20000,1)), axis=1)\n",
    "sea_dataset_df_70 = pd.DataFrame(sea_dataset_70)\n",
    "sea_dataset_df_70 = sea_dataset_df_70.astype({3: int})\n",
    "sea_dataset_df_70.to_csv(\"SEA Dataset 70.csv\", index=False)"
   ]
  },
  {
   "source": [
    "# Online Learning"
   ],
   "cell_type": "markdown",
   "metadata": {}
  },
  {
   "source": [
    "## Read Data from Files as Streams"
   ],
   "cell_type": "markdown",
   "metadata": {}
  },
  {
   "cell_type": "code",
   "execution_count": 19,
   "metadata": {},
   "outputs": [],
   "source": [
    "sea_dataset_read = FileStream(\"SEA Dataset.csv\")\n",
    "sea_dataset_read_10 = FileStream(\"SEA Dataset 10.csv\")\n",
    "sea_dataset_read_70 = FileStream(\"SEA Dataset 70.csv\")"
   ]
  },
  {
   "source": [
    "## Data Stream Classification with Three Separate Online Single Classifiers: HT, KNN, MLP"
   ],
   "cell_type": "markdown",
   "metadata": {}
  },
  {
   "cell_type": "code",
   "execution_count": 20,
   "metadata": {},
   "outputs": [],
   "source": [
    "HT_online_classifier = HoeffdingTreeClassifier()\n",
    "KNN_online_classifier = KNNClassifier()\n",
    "MLP_online_classifier = MLPClassifier(hidden_layer_sizes=(200,4))"
   ]
  },
  {
   "cell_type": "code",
   "execution_count": 21,
   "metadata": {},
   "outputs": [],
   "source": [
    "evaluator = EvaluatePrequential(show_plot=True, metrics=[\"accuracy\"])"
   ]
  },
  {
   "cell_type": "code",
   "execution_count": 11,
   "metadata": {},
   "outputs": [
    {
     "output_type": "display_data",
     "data": {
      "text/plain": "Canvas(toolbar=Toolbar(toolitems=[('Home', 'Reset original view', 'home', 'home'), ('Back', 'Back to previous …",
      "application/vnd.jupyter.widget-view+json": {
       "version_major": 2,
       "version_minor": 0,
       "model_id": "50c617ebc1be40168366f6f979908f34"
      }
     },
     "metadata": {}
    },
    {
     "output_type": "stream",
     "name": "stdout",
     "text": [
      "Prequential Evaluation\n",
      "Evaluating 1 target(s).\n",
      "Pre-training on 200 sample(s).\n",
      "Evaluating...\n",
      " #################### [100%] [34.82s]\n",
      "Processed samples: 20000\n",
      "Mean performance:\n",
      "HT - Accuracy     : 0.9699\n",
      "KNN - Accuracy     : 0.9717\n",
      "MLP - Accuracy     : 0.9599\n"
     ]
    },
    {
     "output_type": "execute_result",
     "data": {
      "text/plain": [
       "[HoeffdingTreeClassifier(binary_split=False, grace_period=200,\n",
       "                         leaf_prediction='nba', max_byte_size=33554432,\n",
       "                         memory_estimate_period=1000000, nb_threshold=0,\n",
       "                         no_preprune=False, nominal_attributes=None,\n",
       "                         remove_poor_atts=False, split_confidence=1e-07,\n",
       "                         split_criterion='info_gain', stop_mem_management=False,\n",
       "                         tie_threshold=0.05),\n",
       " KNNClassifier(leaf_size=30, max_window_size=1000, metric='euclidean',\n",
       "               n_neighbors=5),\n",
       " MLPClassifier(hidden_layer_sizes=(200, 4))]"
      ]
     },
     "metadata": {},
     "execution_count": 11
    }
   ],
   "source": [
    "evaluator.evaluate(stream=sea_dataset_read, model=[HT_online_classifier, KNN_online_classifier, MLP_online_classifier], model_names=[\"HT\", \"KNN\", \"MLP\"])"
   ]
  },
  {
   "cell_type": "code",
   "execution_count": 12,
   "metadata": {},
   "outputs": [
    {
     "output_type": "display_data",
     "data": {
      "text/plain": "Canvas(toolbar=Toolbar(toolitems=[('Home', 'Reset original view', 'home', 'home'), ('Back', 'Back to previous …",
      "application/vnd.jupyter.widget-view+json": {
       "version_major": 2,
       "version_minor": 0,
       "model_id": "987230c1f4834f7ea94b39e261df2020"
      }
     },
     "metadata": {}
    },
    {
     "output_type": "stream",
     "name": "stdout",
     "text": [
      "Prequential Evaluation\n",
      "Evaluating 1 target(s).\n",
      "Pre-training on 200 sample(s).\n",
      "Evaluating...\n",
      " #################### [100%] [33.17s]\n",
      "Processed samples: 20000\n",
      "Mean performance:\n",
      "HT - Accuracy     : 0.8914\n",
      "KNN - Accuracy     : 0.8736\n",
      "MLP - Accuracy     : 0.8792\n"
     ]
    },
    {
     "output_type": "execute_result",
     "data": {
      "text/plain": [
       "[HoeffdingTreeClassifier(binary_split=False, grace_period=200,\n",
       "                         leaf_prediction='nba', max_byte_size=33554432,\n",
       "                         memory_estimate_period=1000000, nb_threshold=0,\n",
       "                         no_preprune=False, nominal_attributes=None,\n",
       "                         remove_poor_atts=False, split_confidence=1e-07,\n",
       "                         split_criterion='info_gain', stop_mem_management=False,\n",
       "                         tie_threshold=0.05),\n",
       " KNNClassifier(leaf_size=30, max_window_size=1000, metric='euclidean',\n",
       "               n_neighbors=5),\n",
       " MLPClassifier(hidden_layer_sizes=(200, 4))]"
      ]
     },
     "metadata": {},
     "execution_count": 12
    }
   ],
   "source": [
    "evaluator.evaluate(stream=sea_dataset_read_10, model=[HT_online_classifier, KNN_online_classifier, MLP_online_classifier], model_names=[\"HT\", \"KNN\", \"MLP\"])"
   ]
  },
  {
   "cell_type": "code",
   "execution_count": 13,
   "metadata": {},
   "outputs": [
    {
     "output_type": "display_data",
     "data": {
      "text/plain": "Canvas(toolbar=Toolbar(toolitems=[('Home', 'Reset original view', 'home', 'home'), ('Back', 'Back to previous …",
      "application/vnd.jupyter.widget-view+json": {
       "version_major": 2,
       "version_minor": 0,
       "model_id": "acecb0c5e73e4c03bdaa391315724f11"
      }
     },
     "metadata": {}
    },
    {
     "output_type": "stream",
     "name": "stdout",
     "text": [
      "Prequential Evaluation\n",
      "Evaluating 1 target(s).\n",
      "Pre-training on 200 sample(s).\n",
      "Evaluating...\n",
      " #################### [100%] [34.07s]\n",
      "Processed samples: 20000\n",
      "Mean performance:\n",
      "HT - Accuracy     : 0.3821\n",
      "KNN - Accuracy     : 0.6072\n",
      "MLP - Accuracy     : 0.5707\n"
     ]
    },
    {
     "output_type": "execute_result",
     "data": {
      "text/plain": [
       "[HoeffdingTreeClassifier(binary_split=False, grace_period=200,\n",
       "                         leaf_prediction='nba', max_byte_size=33554432,\n",
       "                         memory_estimate_period=1000000, nb_threshold=0,\n",
       "                         no_preprune=False, nominal_attributes=None,\n",
       "                         remove_poor_atts=False, split_confidence=1e-07,\n",
       "                         split_criterion='info_gain', stop_mem_management=False,\n",
       "                         tie_threshold=0.05),\n",
       " KNNClassifier(leaf_size=30, max_window_size=1000, metric='euclidean',\n",
       "               n_neighbors=5),\n",
       " MLPClassifier(hidden_layer_sizes=(200, 4))]"
      ]
     },
     "metadata": {},
     "execution_count": 13
    }
   ],
   "source": [
    "evaluator.evaluate(stream=sea_dataset_read_70, model=[HT_online_classifier, KNN_online_classifier, MLP_online_classifier], model_names=[\"HT\", \"KNN\", \"MLP\"])"
   ]
  },
  {
   "source": [
    "### Try different batch sizes"
   ],
   "cell_type": "markdown",
   "metadata": {}
  },
  {
   "cell_type": "code",
   "execution_count": 14,
   "metadata": {},
   "outputs": [
    {
     "output_type": "stream",
     "name": "stdout",
     "text": [
      "Evaluating for batch size 5 and dataset SEA Dataset\n"
     ]
    },
    {
     "output_type": "display_data",
     "data": {
      "text/plain": "Canvas(toolbar=Toolbar(toolitems=[('Home', 'Reset original view', 'home', 'home'), ('Back', 'Back to previous …",
      "application/vnd.jupyter.widget-view+json": {
       "version_major": 2,
       "version_minor": 0,
       "model_id": "b60e78d23aaf4597b99b9b8b376a703a"
      }
     },
     "metadata": {}
    },
    {
     "output_type": "stream",
     "name": "stdout",
     "text": [
      "Prequential Evaluation\n",
      "Evaluating 1 target(s).\n",
      "Pre-training on 200 sample(s).\n",
      "Evaluating...\n",
      " #################### [100%] [8.93s]\n",
      "Processed samples: 20000\n",
      "Mean performance:\n",
      "HT - Accuracy     : 0.9700\n",
      "KNN - Accuracy     : 0.9717\n",
      "MLP - Accuracy     : 0.9487\n",
      "Evaluating for batch size 10 and dataset SEA Dataset\n"
     ]
    },
    {
     "output_type": "display_data",
     "data": {
      "text/plain": "Canvas(toolbar=Toolbar(toolitems=[('Home', 'Reset original view', 'home', 'home'), ('Back', 'Back to previous …",
      "application/vnd.jupyter.widget-view+json": {
       "version_major": 2,
       "version_minor": 0,
       "model_id": "ff0f4b09a7f04df19d11740b79bc809f"
      }
     },
     "metadata": {}
    },
    {
     "output_type": "stream",
     "name": "stdout",
     "text": [
      "Prequential Evaluation\n",
      "Evaluating 1 target(s).\n",
      "Pre-training on 200 sample(s).\n",
      "Evaluating...\n",
      " #################### [100%] [5.94s]\n",
      "Processed samples: 20000\n",
      "Mean performance:\n",
      "HT - Accuracy     : 0.9698\n",
      "KNN - Accuracy     : 0.9718\n",
      "MLP - Accuracy     : 0.9386\n",
      "Evaluating for batch size 25 and dataset SEA Dataset\n"
     ]
    },
    {
     "output_type": "display_data",
     "data": {
      "text/plain": "Canvas(toolbar=Toolbar(toolitems=[('Home', 'Reset original view', 'home', 'home'), ('Back', 'Back to previous …",
      "application/vnd.jupyter.widget-view+json": {
       "version_major": 2,
       "version_minor": 0,
       "model_id": "4a49de4c24694dfda5ffb1505cc468b7"
      }
     },
     "metadata": {}
    },
    {
     "output_type": "stream",
     "name": "stdout",
     "text": [
      "Prequential Evaluation\n",
      "Evaluating 1 target(s).\n",
      "Pre-training on 200 sample(s).\n",
      "Evaluating...\n",
      " #################### [100%] [4.17s]\n",
      "Processed samples: 20000\n",
      "Mean performance:\n",
      "HT - Accuracy     : 0.9691\n",
      "KNN - Accuracy     : 0.9713\n",
      "MLP - Accuracy     : 0.8504\n",
      "Evaluating for batch size 50 and dataset SEA Dataset\n"
     ]
    },
    {
     "output_type": "display_data",
     "data": {
      "text/plain": "Canvas(toolbar=Toolbar(toolitems=[('Home', 'Reset original view', 'home', 'home'), ('Back', 'Back to previous …",
      "application/vnd.jupyter.widget-view+json": {
       "version_major": 2,
       "version_minor": 0,
       "model_id": "6ed7659c763b4cb0b667fc7416637344"
      }
     },
     "metadata": {}
    },
    {
     "output_type": "stream",
     "name": "stdout",
     "text": [
      "Prequential Evaluation\n",
      "Evaluating 1 target(s).\n",
      "Pre-training on 200 sample(s).\n",
      "Evaluating...\n",
      " #################### [100%] [3.54s]\n",
      "Processed samples: 20000\n",
      "Mean performance:\n",
      "HT - Accuracy     : 0.9694\n",
      "KNN - Accuracy     : 0.9714\n",
      "MLP - Accuracy     : 0.9267\n",
      "Evaluating for batch size 100 and dataset SEA Dataset\n"
     ]
    },
    {
     "output_type": "display_data",
     "data": {
      "text/plain": "Canvas(toolbar=Toolbar(toolitems=[('Home', 'Reset original view', 'home', 'home'), ('Back', 'Back to previous …",
      "application/vnd.jupyter.widget-view+json": {
       "version_major": 2,
       "version_minor": 0,
       "model_id": "e892fc65e8674661a624f2ef6ce120dc"
      }
     },
     "metadata": {}
    },
    {
     "output_type": "stream",
     "name": "stdout",
     "text": [
      "Prequential Evaluation\n",
      "Evaluating 1 target(s).\n",
      "Pre-training on 200 sample(s).\n",
      "Evaluating...\n",
      " #################### [100%] [3.27s]\n",
      "Processed samples: 20000\n",
      "Mean performance:\n",
      "HT - Accuracy     : 0.9690\n",
      "KNN - Accuracy     : 0.9714\n",
      "MLP - Accuracy     : 0.7995\n",
      "Evaluating for batch size 200 and dataset SEA Dataset\n"
     ]
    },
    {
     "output_type": "display_data",
     "data": {
      "text/plain": "Canvas(toolbar=Toolbar(toolitems=[('Home', 'Reset original view', 'home', 'home'), ('Back', 'Back to previous …",
      "application/vnd.jupyter.widget-view+json": {
       "version_major": 2,
       "version_minor": 0,
       "model_id": "e7fd0020efa24e0d9cfa684ac9203082"
      }
     },
     "metadata": {}
    },
    {
     "output_type": "stream",
     "name": "stdout",
     "text": [
      "Prequential Evaluation\n",
      "Evaluating 1 target(s).\n",
      "Pre-training on 200 sample(s).\n",
      "Evaluating...\n",
      " #################### [99%] [3.13s]\n",
      "Processed samples: 20000\n",
      "Mean performance:\n",
      "HT - Accuracy     : 0.9669\n",
      "KNN - Accuracy     : 0.9707\n",
      "MLP - Accuracy     : 0.8083\n",
      "Evaluating for batch size 500 and dataset SEA Dataset\n"
     ]
    },
    {
     "output_type": "display_data",
     "data": {
      "text/plain": "Canvas(toolbar=Toolbar(toolitems=[('Home', 'Reset original view', 'home', 'home'), ('Back', 'Back to previous …",
      "application/vnd.jupyter.widget-view+json": {
       "version_major": 2,
       "version_minor": 0,
       "model_id": "f85515c64d0145f9aa0288237e1fe4b6"
      }
     },
     "metadata": {}
    },
    {
     "output_type": "stream",
     "name": "stdout",
     "text": [
      "Prequential Evaluation\n",
      "Evaluating 1 target(s).\n",
      "Pre-training on 200 sample(s).\n",
      "Evaluating...\n",
      " #################### [98%] [2.80s]\n",
      "Processed samples: 20200\n",
      "Mean performance:\n",
      "HT - Accuracy     : 0.9711\n",
      "KNN - Accuracy     : 0.9707\n",
      "MLP - Accuracy     : 0.8012\n",
      "Evaluating for batch size 1000 and dataset SEA Dataset\n"
     ]
    },
    {
     "output_type": "display_data",
     "data": {
      "text/plain": "Canvas(toolbar=Toolbar(toolitems=[('Home', 'Reset original view', 'home', 'home'), ('Back', 'Back to previous …",
      "application/vnd.jupyter.widget-view+json": {
       "version_major": 2,
       "version_minor": 0,
       "model_id": "fab5b086de27411c8c00bcb0fb4c3c10"
      }
     },
     "metadata": {}
    },
    {
     "output_type": "stream",
     "name": "stdout",
     "text": [
      "Prequential Evaluation\n",
      "Evaluating 1 target(s).\n",
      "Pre-training on 200 sample(s).\n",
      "Evaluating...\n",
      " ###################- [96%] [2.67s]\n",
      "Processed samples: 20200\n",
      "Mean performance:\n",
      "HT - Accuracy     : 0.9711\n",
      "KNN - Accuracy     : 0.9693\n",
      "MLP - Accuracy     : 0.8199\n"
     ]
    }
   ],
   "source": [
    "batch_sizes = [5, 10, 25, 50, 100, 200, 500, 1000]\n",
    "\n",
    "for batch_size in batch_sizes:\n",
    "    HT_online_classifier = HoeffdingTreeClassifier()\n",
    "    KNN_online_classifier = KNNClassifier()\n",
    "    MLP_online_classifier = MLPClassifier(hidden_layer_sizes=(200,4))\n",
    "\n",
    "    print(\"Evaluating for batch size\", batch_size, \"and dataset SEA Dataset\")\n",
    "    evaluator = EvaluatePrequential(show_plot=True, metrics=[\"accuracy\"], batch_size=batch_size)\n",
    "    evaluator.evaluate(stream=sea_dataset_read, model=[HT_online_classifier, KNN_online_classifier, MLP_online_classifier], model_names=[\"HT\", \"KNN\", \"MLP\"])"
   ]
  },
  {
   "cell_type": "code",
   "execution_count": 15,
   "metadata": {},
   "outputs": [
    {
     "output_type": "stream",
     "name": "stdout",
     "text": [
      "Evaluating for batch size 5 and dataset SEA Dataset10\n"
     ]
    },
    {
     "output_type": "display_data",
     "data": {
      "text/plain": "Canvas(toolbar=Toolbar(toolitems=[('Home', 'Reset original view', 'home', 'home'), ('Back', 'Back to previous …",
      "application/vnd.jupyter.widget-view+json": {
       "version_major": 2,
       "version_minor": 0,
       "model_id": "90b72989a8da4a999d3a09b04d81e1ab"
      }
     },
     "metadata": {}
    },
    {
     "output_type": "stream",
     "name": "stdout",
     "text": [
      "Prequential Evaluation\n",
      "Evaluating 1 target(s).\n",
      "Pre-training on 200 sample(s).\n",
      "Evaluating...\n",
      " #################### [100%] [8.86s]\n",
      "Processed samples: 20000\n",
      "Mean performance:\n",
      "HT - Accuracy     : 0.8783\n",
      "KNN - Accuracy     : 0.8730\n",
      "MLP - Accuracy     : 0.8576\n",
      "Evaluating for batch size 10 and dataset SEA Dataset10\n"
     ]
    },
    {
     "output_type": "display_data",
     "data": {
      "text/plain": "Canvas(toolbar=Toolbar(toolitems=[('Home', 'Reset original view', 'home', 'home'), ('Back', 'Back to previous …",
      "application/vnd.jupyter.widget-view+json": {
       "version_major": 2,
       "version_minor": 0,
       "model_id": "5899faaaed0b452fbaf359d7867cfeb9"
      }
     },
     "metadata": {}
    },
    {
     "output_type": "stream",
     "name": "stdout",
     "text": [
      "Prequential Evaluation\n",
      "Evaluating 1 target(s).\n",
      "Pre-training on 200 sample(s).\n",
      "Evaluating...\n",
      " #################### [100%] [5.95s]\n",
      "Processed samples: 20000\n",
      "Mean performance:\n",
      "HT - Accuracy     : 0.8782\n",
      "KNN - Accuracy     : 0.8729\n",
      "MLP - Accuracy     : 0.8535\n",
      "Evaluating for batch size 25 and dataset SEA Dataset10\n"
     ]
    },
    {
     "output_type": "display_data",
     "data": {
      "text/plain": "Canvas(toolbar=Toolbar(toolitems=[('Home', 'Reset original view', 'home', 'home'), ('Back', 'Back to previous …",
      "application/vnd.jupyter.widget-view+json": {
       "version_major": 2,
       "version_minor": 0,
       "model_id": "4e16f47e4380493ea71dd94eddca0c71"
      }
     },
     "metadata": {}
    },
    {
     "output_type": "stream",
     "name": "stdout",
     "text": [
      "Prequential Evaluation\n",
      "Evaluating 1 target(s).\n",
      "Pre-training on 200 sample(s).\n",
      "Evaluating...\n",
      " #################### [100%] [5.00s]\n",
      "Processed samples: 20000\n",
      "Mean performance:\n",
      "HT - Accuracy     : 0.8781\n",
      "KNN - Accuracy     : 0.8726\n",
      "MLP - Accuracy     : 0.8317\n",
      "Evaluating for batch size 50 and dataset SEA Dataset10\n"
     ]
    },
    {
     "output_type": "display_data",
     "data": {
      "text/plain": "Canvas(toolbar=Toolbar(toolitems=[('Home', 'Reset original view', 'home', 'home'), ('Back', 'Back to previous …",
      "application/vnd.jupyter.widget-view+json": {
       "version_major": 2,
       "version_minor": 0,
       "model_id": "418620afda6c44ff8d5b35c2e737b018"
      }
     },
     "metadata": {}
    },
    {
     "output_type": "stream",
     "name": "stdout",
     "text": [
      "Prequential Evaluation\n",
      "Evaluating 1 target(s).\n",
      "Pre-training on 200 sample(s).\n",
      "Evaluating...\n",
      " #################### [100%] [4.95s]\n",
      "Processed samples: 20000\n",
      "Mean performance:\n",
      "HT - Accuracy     : 0.8780\n",
      "KNN - Accuracy     : 0.8722\n",
      "MLP - Accuracy     : 0.3554\n",
      "Evaluating for batch size 100 and dataset SEA Dataset10\n"
     ]
    },
    {
     "output_type": "display_data",
     "data": {
      "text/plain": "Canvas(toolbar=Toolbar(toolitems=[('Home', 'Reset original view', 'home', 'home'), ('Back', 'Back to previous …",
      "application/vnd.jupyter.widget-view+json": {
       "version_major": 2,
       "version_minor": 0,
       "model_id": "4bf8680f0dd44e4a9578210b61d329de"
      }
     },
     "metadata": {}
    },
    {
     "output_type": "stream",
     "name": "stdout",
     "text": [
      "Prequential Evaluation\n",
      "Evaluating 1 target(s).\n",
      "Pre-training on 200 sample(s).\n",
      "Evaluating...\n",
      " #################### [100%] [4.05s]\n",
      "Processed samples: 20000\n",
      "Mean performance:\n",
      "HT - Accuracy     : 0.8776\n",
      "KNN - Accuracy     : 0.8730\n",
      "MLP - Accuracy     : 0.4717\n",
      "Evaluating for batch size 200 and dataset SEA Dataset10\n"
     ]
    },
    {
     "output_type": "display_data",
     "data": {
      "text/plain": "Canvas(toolbar=Toolbar(toolitems=[('Home', 'Reset original view', 'home', 'home'), ('Back', 'Back to previous …",
      "application/vnd.jupyter.widget-view+json": {
       "version_major": 2,
       "version_minor": 0,
       "model_id": "ae39ef48cbf040289ae1c07e1ed4a99d"
      }
     },
     "metadata": {}
    },
    {
     "output_type": "stream",
     "name": "stdout",
     "text": [
      "Prequential Evaluation\n",
      "Evaluating 1 target(s).\n",
      "Pre-training on 200 sample(s).\n",
      "Evaluating...\n",
      " #################### [99%] [3.24s]\n",
      "Processed samples: 20000\n",
      "Mean performance:\n",
      "HT - Accuracy     : 0.8763\n",
      "KNN - Accuracy     : 0.8724\n",
      "MLP - Accuracy     : 0.7496\n",
      "Evaluating for batch size 500 and dataset SEA Dataset10\n"
     ]
    },
    {
     "output_type": "display_data",
     "data": {
      "text/plain": "Canvas(toolbar=Toolbar(toolitems=[('Home', 'Reset original view', 'home', 'home'), ('Back', 'Back to previous …",
      "application/vnd.jupyter.widget-view+json": {
       "version_major": 2,
       "version_minor": 0,
       "model_id": "f0460581518b42e6a4d639ddbf2af503"
      }
     },
     "metadata": {}
    },
    {
     "output_type": "stream",
     "name": "stdout",
     "text": [
      "Prequential Evaluation\n",
      "Evaluating 1 target(s).\n",
      "Pre-training on 200 sample(s).\n",
      "Evaluating...\n",
      " #################### [98%] [2.93s]\n",
      "Processed samples: 20200\n",
      "Mean performance:\n",
      "HT - Accuracy     : 0.8786\n",
      "KNN - Accuracy     : 0.8725\n",
      "MLP - Accuracy     : 0.7418\n",
      "Evaluating for batch size 1000 and dataset SEA Dataset10\n"
     ]
    },
    {
     "output_type": "display_data",
     "data": {
      "text/plain": "Canvas(toolbar=Toolbar(toolitems=[('Home', 'Reset original view', 'home', 'home'), ('Back', 'Back to previous …",
      "application/vnd.jupyter.widget-view+json": {
       "version_major": 2,
       "version_minor": 0,
       "model_id": "57bf6454ebf64610b2f758201d33b1c8"
      }
     },
     "metadata": {}
    },
    {
     "output_type": "stream",
     "name": "stdout",
     "text": [
      "Prequential Evaluation\n",
      "Evaluating 1 target(s).\n",
      "Pre-training on 200 sample(s).\n",
      "Evaluating...\n",
      " ###################- [96%] [2.89s]\n",
      "Processed samples: 20200\n",
      "Mean performance:\n",
      "HT - Accuracy     : 0.8781\n",
      "KNN - Accuracy     : 0.8710\n",
      "MLP - Accuracy     : 0.7470\n"
     ]
    }
   ],
   "source": [
    "batch_sizes = [5, 10, 25, 50, 100, 200, 500, 1000]\n",
    "\n",
    "for batch_size in batch_sizes:\n",
    "    HT_online_classifier = HoeffdingTreeClassifier()\n",
    "    KNN_online_classifier = KNNClassifier()\n",
    "    MLP_online_classifier = MLPClassifier(hidden_layer_sizes=(200,4))\n",
    "\n",
    "    print(\"Evaluating for batch size\", batch_size, \"and dataset SEA Dataset10\")\n",
    "    evaluator = EvaluatePrequential(show_plot=True, metrics=[\"accuracy\"], batch_size=batch_size)\n",
    "    evaluator.evaluate(stream=sea_dataset_read_10, model=[HT_online_classifier, KNN_online_classifier, MLP_online_classifier], model_names=[\"HT\", \"KNN\", \"MLP\"])"
   ]
  },
  {
   "cell_type": "code",
   "execution_count": 16,
   "metadata": {},
   "outputs": [
    {
     "output_type": "stream",
     "name": "stdout",
     "text": [
      "Evaluating for batch size 5 and dataset SEA Dataset10\n"
     ]
    },
    {
     "output_type": "display_data",
     "data": {
      "text/plain": "Canvas(toolbar=Toolbar(toolitems=[('Home', 'Reset original view', 'home', 'home'), ('Back', 'Back to previous …",
      "application/vnd.jupyter.widget-view+json": {
       "version_major": 2,
       "version_minor": 0,
       "model_id": "66db2ab968a04975ab3fae5853a26de8"
      }
     },
     "metadata": {}
    },
    {
     "output_type": "stream",
     "name": "stdout",
     "text": [
      "Prequential Evaluation\n",
      "Evaluating 1 target(s).\n",
      "Pre-training on 200 sample(s).\n",
      "Evaluating...\n",
      " #################### [100%] [9.86s]\n",
      "Processed samples: 20000\n",
      "Mean performance:\n",
      "HT - Accuracy     : 0.6655\n",
      "KNN - Accuracy     : 0.6114\n",
      "MLP - Accuracy     : 0.6207\n",
      "Evaluating for batch size 10 and dataset SEA Dataset10\n"
     ]
    },
    {
     "output_type": "display_data",
     "data": {
      "text/plain": "Canvas(toolbar=Toolbar(toolitems=[('Home', 'Reset original view', 'home', 'home'), ('Back', 'Back to previous …",
      "application/vnd.jupyter.widget-view+json": {
       "version_major": 2,
       "version_minor": 0,
       "model_id": "21db54adadf44a0d8c127366eb35e675"
      }
     },
     "metadata": {}
    },
    {
     "output_type": "stream",
     "name": "stdout",
     "text": [
      "Prequential Evaluation\n",
      "Evaluating 1 target(s).\n",
      "Pre-training on 200 sample(s).\n",
      "Evaluating...\n",
      " #################### [100%] [6.17s]\n",
      "Processed samples: 20000\n",
      "Mean performance:\n",
      "HT - Accuracy     : 0.6652\n",
      "KNN - Accuracy     : 0.6114\n",
      "MLP - Accuracy     : 0.6517\n",
      "Evaluating for batch size 25 and dataset SEA Dataset10\n"
     ]
    },
    {
     "output_type": "display_data",
     "data": {
      "text/plain": "Canvas(toolbar=Toolbar(toolitems=[('Home', 'Reset original view', 'home', 'home'), ('Back', 'Back to previous …",
      "application/vnd.jupyter.widget-view+json": {
       "version_major": 2,
       "version_minor": 0,
       "model_id": "fe4c8014f80f4280935d6e9d9957020c"
      }
     },
     "metadata": {}
    },
    {
     "output_type": "stream",
     "name": "stdout",
     "text": [
      "Prequential Evaluation\n",
      "Evaluating 1 target(s).\n",
      "Pre-training on 200 sample(s).\n",
      "Evaluating...\n",
      " #################### [100%] [4.36s]\n",
      "Processed samples: 20000\n",
      "Mean performance:\n",
      "HT - Accuracy     : 0.6652\n",
      "KNN - Accuracy     : 0.6120\n",
      "MLP - Accuracy     : 0.5714\n",
      "Evaluating for batch size 50 and dataset SEA Dataset10\n"
     ]
    },
    {
     "output_type": "display_data",
     "data": {
      "text/plain": "Canvas(toolbar=Toolbar(toolitems=[('Home', 'Reset original view', 'home', 'home'), ('Back', 'Back to previous …",
      "application/vnd.jupyter.widget-view+json": {
       "version_major": 2,
       "version_minor": 0,
       "model_id": "eae220c0ba18475e9238254ab46add95"
      }
     },
     "metadata": {}
    },
    {
     "output_type": "stream",
     "name": "stdout",
     "text": [
      "Prequential Evaluation\n",
      "Evaluating 1 target(s).\n",
      "Pre-training on 200 sample(s).\n",
      "Evaluating...\n",
      " #################### [100%] [3.77s]\n",
      "Processed samples: 20000\n",
      "Mean performance:\n",
      "HT - Accuracy     : 0.6652\n",
      "KNN - Accuracy     : 0.6108\n",
      "MLP - Accuracy     : 0.6398\n",
      "Evaluating for batch size 100 and dataset SEA Dataset10\n"
     ]
    },
    {
     "output_type": "display_data",
     "data": {
      "text/plain": "Canvas(toolbar=Toolbar(toolitems=[('Home', 'Reset original view', 'home', 'home'), ('Back', 'Back to previous …",
      "application/vnd.jupyter.widget-view+json": {
       "version_major": 2,
       "version_minor": 0,
       "model_id": "7969d25f3c674c0b8f69fcb2c16899cd"
      }
     },
     "metadata": {}
    },
    {
     "output_type": "stream",
     "name": "stdout",
     "text": [
      "Prequential Evaluation\n",
      "Evaluating 1 target(s).\n",
      "Pre-training on 200 sample(s).\n",
      "Evaluating...\n",
      " #################### [100%] [3.41s]\n",
      "Processed samples: 20000\n",
      "Mean performance:\n",
      "HT - Accuracy     : 0.6644\n",
      "KNN - Accuracy     : 0.6105\n",
      "MLP - Accuracy     : 0.6594\n",
      "Evaluating for batch size 200 and dataset SEA Dataset10\n"
     ]
    },
    {
     "output_type": "display_data",
     "data": {
      "text/plain": "Canvas(toolbar=Toolbar(toolitems=[('Home', 'Reset original view', 'home', 'home'), ('Back', 'Back to previous …",
      "application/vnd.jupyter.widget-view+json": {
       "version_major": 2,
       "version_minor": 0,
       "model_id": "1ffced7ee92d4321af8d0a698dd22509"
      }
     },
     "metadata": {}
    },
    {
     "output_type": "stream",
     "name": "stdout",
     "text": [
      "Prequential Evaluation\n",
      "Evaluating 1 target(s).\n",
      "Pre-training on 200 sample(s).\n",
      "Evaluating...\n",
      " #################### [99%] [3.27s]\n",
      "Processed samples: 20000\n",
      "Mean performance:\n",
      "HT - Accuracy     : 0.6634\n",
      "KNN - Accuracy     : 0.6097\n",
      "MLP - Accuracy     : 0.5897\n",
      "Evaluating for batch size 500 and dataset SEA Dataset10\n"
     ]
    },
    {
     "output_type": "display_data",
     "data": {
      "text/plain": "Canvas(toolbar=Toolbar(toolitems=[('Home', 'Reset original view', 'home', 'home'), ('Back', 'Back to previous …",
      "application/vnd.jupyter.widget-view+json": {
       "version_major": 2,
       "version_minor": 0,
       "model_id": "65b2b9b6d77446b8a0bfe17130d61abe"
      }
     },
     "metadata": {}
    },
    {
     "output_type": "stream",
     "name": "stdout",
     "text": [
      "Prequential Evaluation\n",
      "Evaluating 1 target(s).\n",
      "Pre-training on 200 sample(s).\n",
      "Evaluating...\n",
      " #################### [98%] [2.90s]\n",
      "Processed samples: 20200\n",
      "Mean performance:\n",
      "HT - Accuracy     : 0.6658\n",
      "KNN - Accuracy     : 0.6087\n",
      "MLP - Accuracy     : 0.6391\n",
      "Evaluating for batch size 1000 and dataset SEA Dataset10\n"
     ]
    },
    {
     "output_type": "display_data",
     "data": {
      "text/plain": "Canvas(toolbar=Toolbar(toolitems=[('Home', 'Reset original view', 'home', 'home'), ('Back', 'Back to previous …",
      "application/vnd.jupyter.widget-view+json": {
       "version_major": 2,
       "version_minor": 0,
       "model_id": "083ec6d0f2de4d3e984657de0173b6e5"
      }
     },
     "metadata": {}
    },
    {
     "output_type": "stream",
     "name": "stdout",
     "text": [
      "Prequential Evaluation\n",
      "Evaluating 1 target(s).\n",
      "Pre-training on 200 sample(s).\n",
      "Evaluating...\n",
      " ###################- [96%] [2.75s]\n",
      "Processed samples: 20200\n",
      "Mean performance:\n",
      "HT - Accuracy     : 0.6660\n",
      "KNN - Accuracy     : 0.6083\n",
      "MLP - Accuracy     : 0.6245\n"
     ]
    }
   ],
   "source": [
    "batch_sizes = [5, 10, 25, 50, 100, 200, 500, 1000]\n",
    "\n",
    "for batch_size in batch_sizes:\n",
    "    HT_online_classifier = HoeffdingTreeClassifier()\n",
    "    KNN_online_classifier = KNNClassifier()\n",
    "    MLP_online_classifier = MLPClassifier(hidden_layer_sizes=(200,4))\n",
    "\n",
    "    print(\"Evaluating for batch size\", batch_size, \"and dataset SEA Dataset10\")\n",
    "    evaluator = EvaluatePrequential(show_plot=True, metrics=[\"accuracy\"], batch_size=batch_size)\n",
    "    evaluator.evaluate(stream=sea_dataset_read_70, model=[HT_online_classifier, KNN_online_classifier, MLP_online_classifier], model_names=[\"HT\", \"KNN\", \"MLP\"])"
   ]
  },
  {
   "source": [
    "## Data Stream Classification with Two Online Ensemble Classifiers: MV, WMV"
   ],
   "cell_type": "markdown",
   "metadata": {}
  },
  {
   "cell_type": "code",
   "execution_count": 17,
   "metadata": {},
   "outputs": [],
   "source": [
    "HT_online_classifier = HoeffdingTreeClassifier()\n",
    "KNN_online_classifier = KNNClassifier()\n",
    "MLP_online_classifier = MLPClassifier(hidden_layer_sizes=(200,4))"
   ]
  },
  {
   "cell_type": "code",
   "execution_count": 18,
   "metadata": {},
   "outputs": [],
   "source": [
    "MV_online = VotingClassifier(estimators=[(\"HT\", HT_online_classifier), (\"KNN\", KNN_online_classifier), (\"MLP\", MLP_online_classifier)], voting='hard', weights=[1,1,1])\n",
    "MV_online = BatchIncrementalClassifier(base_estimator=MV_online, n_estimators=3)\n",
    "\n",
    "WMV_online = VotingClassifier(estimators=[(\"HT\", HT_online_classifier), (\"KNN\", KNN_online_classifier), (\"MLP\", MLP_online_classifier)], voting='hard')\n",
    "WMV_online = BatchIncrementalClassifier(base_estimator=WMV_online, n_estimators=3)"
   ]
  },
  {
   "cell_type": "code",
   "execution_count": 19,
   "metadata": {},
   "outputs": [],
   "source": [
    "evaluator = EvaluatePrequential(show_plot=True, metrics=[\"accuracy\"])"
   ]
  },
  {
   "cell_type": "code",
   "execution_count": 20,
   "metadata": {},
   "outputs": [
    {
     "output_type": "display_data",
     "data": {
      "text/plain": "Canvas(toolbar=Toolbar(toolitems=[('Home', 'Reset original view', 'home', 'home'), ('Back', 'Back to previous …",
      "application/vnd.jupyter.widget-view+json": {
       "version_major": 2,
       "version_minor": 0,
       "model_id": "9ac1c64590244cafa9364f266c238438"
      }
     },
     "metadata": {}
    },
    {
     "output_type": "stream",
     "name": "stdout",
     "text": [
      "Prequential Evaluation\n",
      "Evaluating 1 target(s).\n",
      "Pre-training on 200 sample(s).\n",
      "Evaluating...\n",
      " #################### [100%] [80.15s]\n",
      "Processed samples: 20000\n",
      "Mean performance:\n",
      "MV - Accuracy     : 0.9332\n",
      "WMV - Accuracy     : 0.9341\n"
     ]
    },
    {
     "output_type": "execute_result",
     "data": {
      "text/plain": [
       "[BatchIncrementalClassifier(base_estimator=VotingClassifier(estimators=[('HT',\n",
       "                               HoeffdingTreeClassifier(binary_split=False, grace_period=200,\n",
       "                         leaf_prediction='nba', max_byte_size=33554432,\n",
       "                         memory_estimate_period=1000000, nb_threshold=0,\n",
       "                         no_preprune=False, nominal_attributes=None,\n",
       "                         remove_poor_atts=False, split_confidence=1e-07,\n",
       "                         split_criterion='info_gain', stop_mem_management=False,\n",
       "                         tie_threshold=0.05)),\n",
       "                              ('KNN',\n",
       "                               KNNClassifier(leaf_size=30, max_window_size=1000, metric='euclidean',\n",
       "               n_neighbors=5)),\n",
       "                              ('MLP',\n",
       "                               MLPClassifier(hidden_layer_sizes=(200, 4)))],\n",
       "                  weights=[1, 1, 1]),\n",
       "                            n_estimators=1, window_size=100),\n",
       " BatchIncrementalClassifier(base_estimator=VotingClassifier(estimators=[('HT',\n",
       "                               HoeffdingTreeClassifier(binary_split=False, grace_period=200,\n",
       "                         leaf_prediction='nba', max_byte_size=33554432,\n",
       "                         memory_estimate_period=1000000, nb_threshold=0,\n",
       "                         no_preprune=False, nominal_attributes=None,\n",
       "                         remove_poor_atts=False, split_confidence=1e-07,\n",
       "                         split_criterion='info_gain', stop_mem_management=False,\n",
       "                         tie_threshold=0.05)),\n",
       "                              ('KNN',\n",
       "                               KNNClassifier(leaf_size=30, max_window_size=1000, metric='euclidean',\n",
       "               n_neighbors=5)),\n",
       "                              ('MLP',\n",
       "                               MLPClassifier(hidden_layer_sizes=(200, 4)))]),\n",
       "                            n_estimators=1, window_size=100)]"
      ]
     },
     "metadata": {},
     "execution_count": 20
    }
   ],
   "source": [
    "evaluator.evaluate(stream=sea_dataset_read, model=[MV_online, WMV_online], model_names=[\"MV\", \"WMV\"])"
   ]
  },
  {
   "cell_type": "code",
   "execution_count": 21,
   "metadata": {},
   "outputs": [
    {
     "output_type": "display_data",
     "data": {
      "text/plain": "Canvas(toolbar=Toolbar(toolitems=[('Home', 'Reset original view', 'home', 'home'), ('Back', 'Back to previous …",
      "application/vnd.jupyter.widget-view+json": {
       "version_major": 2,
       "version_minor": 0,
       "model_id": "996e49c11a20466d8737a64a5e0baf57"
      }
     },
     "metadata": {}
    },
    {
     "output_type": "stream",
     "name": "stdout",
     "text": [
      "Prequential Evaluation\n",
      "Evaluating 1 target(s).\n",
      "Pre-training on 200 sample(s).\n",
      "Evaluating...\n",
      " #################### [100%] [76.21s]\n",
      "Processed samples: 20000\n",
      "Mean performance:\n",
      "MV - Accuracy     : 0.8410\n",
      "WMV - Accuracy     : 0.8413\n"
     ]
    },
    {
     "output_type": "execute_result",
     "data": {
      "text/plain": [
       "[BatchIncrementalClassifier(base_estimator=VotingClassifier(estimators=[('HT',\n",
       "                               HoeffdingTreeClassifier(binary_split=False, grace_period=200,\n",
       "                         leaf_prediction='nba', max_byte_size=33554432,\n",
       "                         memory_estimate_period=1000000, nb_threshold=0,\n",
       "                         no_preprune=False, nominal_attributes=None,\n",
       "                         remove_poor_atts=False, split_confidence=1e-07,\n",
       "                         split_criterion='info_gain', stop_mem_management=False,\n",
       "                         tie_threshold=0.05)),\n",
       "                              ('KNN',\n",
       "                               KNNClassifier(leaf_size=30, max_window_size=1000, metric='euclidean',\n",
       "               n_neighbors=5)),\n",
       "                              ('MLP',\n",
       "                               MLPClassifier(hidden_layer_sizes=(200, 4)))],\n",
       "                  weights=[1, 1, 1]),\n",
       "                            n_estimators=1, window_size=100),\n",
       " BatchIncrementalClassifier(base_estimator=VotingClassifier(estimators=[('HT',\n",
       "                               HoeffdingTreeClassifier(binary_split=False, grace_period=200,\n",
       "                         leaf_prediction='nba', max_byte_size=33554432,\n",
       "                         memory_estimate_period=1000000, nb_threshold=0,\n",
       "                         no_preprune=False, nominal_attributes=None,\n",
       "                         remove_poor_atts=False, split_confidence=1e-07,\n",
       "                         split_criterion='info_gain', stop_mem_management=False,\n",
       "                         tie_threshold=0.05)),\n",
       "                              ('KNN',\n",
       "                               KNNClassifier(leaf_size=30, max_window_size=1000, metric='euclidean',\n",
       "               n_neighbors=5)),\n",
       "                              ('MLP',\n",
       "                               MLPClassifier(hidden_layer_sizes=(200, 4)))]),\n",
       "                            n_estimators=1, window_size=100)]"
      ]
     },
     "metadata": {},
     "execution_count": 21
    }
   ],
   "source": [
    "evaluator.evaluate(stream=sea_dataset_read_10, model=[MV_online, WMV_online], model_names=[\"MV\", \"WMV\"])"
   ]
  },
  {
   "cell_type": "code",
   "execution_count": 22,
   "metadata": {},
   "outputs": [
    {
     "output_type": "display_data",
     "data": {
      "text/plain": "Canvas(toolbar=Toolbar(toolitems=[('Home', 'Reset original view', 'home', 'home'), ('Back', 'Back to previous …",
      "application/vnd.jupyter.widget-view+json": {
       "version_major": 2,
       "version_minor": 0,
       "model_id": "c6b719495fe74c58961fa71b551fc922"
      }
     },
     "metadata": {}
    },
    {
     "output_type": "stream",
     "name": "stdout",
     "text": [
      "Prequential Evaluation\n",
      "Evaluating 1 target(s).\n",
      "Pre-training on 200 sample(s).\n",
      "Evaluating...\n",
      " #################### [100%] [76.47s]\n",
      "Processed samples: 20000\n",
      "Mean performance:\n",
      "MV - Accuracy     : 0.6065\n",
      "WMV - Accuracy     : 0.6094\n"
     ]
    },
    {
     "output_type": "execute_result",
     "data": {
      "text/plain": [
       "[BatchIncrementalClassifier(base_estimator=VotingClassifier(estimators=[('HT',\n",
       "                               HoeffdingTreeClassifier(binary_split=False, grace_period=200,\n",
       "                         leaf_prediction='nba', max_byte_size=33554432,\n",
       "                         memory_estimate_period=1000000, nb_threshold=0,\n",
       "                         no_preprune=False, nominal_attributes=None,\n",
       "                         remove_poor_atts=False, split_confidence=1e-07,\n",
       "                         split_criterion='info_gain', stop_mem_management=False,\n",
       "                         tie_threshold=0.05)),\n",
       "                              ('KNN',\n",
       "                               KNNClassifier(leaf_size=30, max_window_size=1000, metric='euclidean',\n",
       "               n_neighbors=5)),\n",
       "                              ('MLP',\n",
       "                               MLPClassifier(hidden_layer_sizes=(200, 4)))],\n",
       "                  weights=[1, 1, 1]),\n",
       "                            n_estimators=1, window_size=100),\n",
       " BatchIncrementalClassifier(base_estimator=VotingClassifier(estimators=[('HT',\n",
       "                               HoeffdingTreeClassifier(binary_split=False, grace_period=200,\n",
       "                         leaf_prediction='nba', max_byte_size=33554432,\n",
       "                         memory_estimate_period=1000000, nb_threshold=0,\n",
       "                         no_preprune=False, nominal_attributes=None,\n",
       "                         remove_poor_atts=False, split_confidence=1e-07,\n",
       "                         split_criterion='info_gain', stop_mem_management=False,\n",
       "                         tie_threshold=0.05)),\n",
       "                              ('KNN',\n",
       "                               KNNClassifier(leaf_size=30, max_window_size=1000, metric='euclidean',\n",
       "               n_neighbors=5)),\n",
       "                              ('MLP',\n",
       "                               MLPClassifier(hidden_layer_sizes=(200, 4)))]),\n",
       "                            n_estimators=1, window_size=100)]"
      ]
     },
     "metadata": {},
     "execution_count": 22
    }
   ],
   "source": [
    "evaluator.evaluate(stream=sea_dataset_read_70, model=[MV_online, WMV_online], model_names=[\"MV\", \"WMV\"])"
   ]
  },
  {
   "source": [
    "### Try different batch sizes"
   ],
   "cell_type": "markdown",
   "metadata": {}
  },
  {
   "cell_type": "code",
   "execution_count": 23,
   "metadata": {},
   "outputs": [
    {
     "output_type": "stream",
     "name": "stdout",
     "text": [
      "Evaluating for batch size 5\n"
     ]
    },
    {
     "output_type": "display_data",
     "data": {
      "text/plain": "Canvas(toolbar=Toolbar(toolitems=[('Home', 'Reset original view', 'home', 'home'), ('Back', 'Back to previous …",
      "application/vnd.jupyter.widget-view+json": {
       "version_major": 2,
       "version_minor": 0,
       "model_id": "e02315a164b7412b91f75d4a9af18270"
      }
     },
     "metadata": {}
    },
    {
     "output_type": "stream",
     "name": "stdout",
     "text": [
      "Prequential Evaluation\n",
      "Evaluating 1 target(s).\n",
      "Pre-training on 200 sample(s).\n",
      "Evaluating...\n",
      " #################### [100%] [60.77s]\n",
      "Processed samples: 20000\n",
      "Mean performance:\n",
      "MV - Accuracy     : 0.9324\n",
      "WMV - Accuracy     : 0.9328\n",
      "Evaluating for batch size 10\n"
     ]
    },
    {
     "output_type": "display_data",
     "data": {
      "text/plain": "Canvas(toolbar=Toolbar(toolitems=[('Home', 'Reset original view', 'home', 'home'), ('Back', 'Back to previous …",
      "application/vnd.jupyter.widget-view+json": {
       "version_major": 2,
       "version_minor": 0,
       "model_id": "89c582286bcb49b3b90895be2ab2f2c5"
      }
     },
     "metadata": {}
    },
    {
     "output_type": "stream",
     "name": "stdout",
     "text": [
      "Prequential Evaluation\n",
      "Evaluating 1 target(s).\n",
      "Pre-training on 200 sample(s).\n",
      "Evaluating...\n",
      " #################### [100%] [58.60s]\n",
      "Processed samples: 20000\n",
      "Mean performance:\n",
      "MV - Accuracy     : 0.9347\n",
      "WMV - Accuracy     : 0.9346\n",
      "Evaluating for batch size 25\n"
     ]
    },
    {
     "output_type": "display_data",
     "data": {
      "text/plain": "Canvas(toolbar=Toolbar(toolitems=[('Home', 'Reset original view', 'home', 'home'), ('Back', 'Back to previous …",
      "application/vnd.jupyter.widget-view+json": {
       "version_major": 2,
       "version_minor": 0,
       "model_id": "4763b7222b414260b2e8bb4a729f35d9"
      }
     },
     "metadata": {}
    },
    {
     "output_type": "stream",
     "name": "stdout",
     "text": [
      "Prequential Evaluation\n",
      "Evaluating 1 target(s).\n",
      "Pre-training on 200 sample(s).\n",
      "Evaluating...\n",
      " #################### [100%] [54.71s]\n",
      "Processed samples: 20000\n",
      "Mean performance:\n",
      "MV - Accuracy     : 0.9344\n",
      "WMV - Accuracy     : 0.9333\n",
      "Evaluating for batch size 50\n"
     ]
    },
    {
     "output_type": "display_data",
     "data": {
      "text/plain": "Canvas(toolbar=Toolbar(toolitems=[('Home', 'Reset original view', 'home', 'home'), ('Back', 'Back to previous …",
      "application/vnd.jupyter.widget-view+json": {
       "version_major": 2,
       "version_minor": 0,
       "model_id": "9c6c87b164f04c9ebe03d8e00630a8c2"
      }
     },
     "metadata": {}
    },
    {
     "output_type": "stream",
     "name": "stdout",
     "text": [
      "Prequential Evaluation\n",
      "Evaluating 1 target(s).\n",
      "Pre-training on 200 sample(s).\n",
      "Evaluating...\n",
      " #################### [100%] [54.57s]\n",
      "Processed samples: 20000\n",
      "Mean performance:\n",
      "MV - Accuracy     : 0.9326\n",
      "WMV - Accuracy     : 0.9337\n",
      "Evaluating for batch size 100\n"
     ]
    },
    {
     "output_type": "display_data",
     "data": {
      "text/plain": "Canvas(toolbar=Toolbar(toolitems=[('Home', 'Reset original view', 'home', 'home'), ('Back', 'Back to previous …",
      "application/vnd.jupyter.widget-view+json": {
       "version_major": 2,
       "version_minor": 0,
       "model_id": "59ba345de5a8406094749e1f5d7e78bd"
      }
     },
     "metadata": {}
    },
    {
     "output_type": "stream",
     "name": "stdout",
     "text": [
      "Prequential Evaluation\n",
      "Evaluating 1 target(s).\n",
      "Pre-training on 200 sample(s).\n",
      "Evaluating...\n",
      " #################### [100%] [53.67s]\n",
      "Processed samples: 20000\n",
      "Mean performance:\n",
      "MV - Accuracy     : 0.9336\n",
      "WMV - Accuracy     : 0.9326\n",
      "Evaluating for batch size 200\n"
     ]
    },
    {
     "output_type": "display_data",
     "data": {
      "text/plain": "Canvas(toolbar=Toolbar(toolitems=[('Home', 'Reset original view', 'home', 'home'), ('Back', 'Back to previous …",
      "application/vnd.jupyter.widget-view+json": {
       "version_major": 2,
       "version_minor": 0,
       "model_id": "e2640d8b3b8d4d2290f4242f7b1c32be"
      }
     },
     "metadata": {}
    },
    {
     "output_type": "stream",
     "name": "stdout",
     "text": [
      "Prequential Evaluation\n",
      "Evaluating 1 target(s).\n",
      "Pre-training on 200 sample(s).\n",
      "Evaluating...\n",
      " #################### [99%] [53.49s]\n",
      "Processed samples: 20000\n",
      "Mean performance:\n",
      "MV - Accuracy     : 0.9291\n",
      "WMV - Accuracy     : 0.9296\n",
      "Evaluating for batch size 500\n"
     ]
    },
    {
     "output_type": "display_data",
     "data": {
      "text/plain": "Canvas(toolbar=Toolbar(toolitems=[('Home', 'Reset original view', 'home', 'home'), ('Back', 'Back to previous …",
      "application/vnd.jupyter.widget-view+json": {
       "version_major": 2,
       "version_minor": 0,
       "model_id": "70c5c1dc533245adba7d0bbefd8f93ee"
      }
     },
     "metadata": {}
    },
    {
     "output_type": "stream",
     "name": "stdout",
     "text": [
      "Prequential Evaluation\n",
      "Evaluating 1 target(s).\n",
      "Pre-training on 200 sample(s).\n",
      "Evaluating...\n",
      " #################### [98%] [53.41s]\n",
      "Processed samples: 20200\n",
      "Mean performance:\n",
      "MV - Accuracy     : 0.9370\n",
      "WMV - Accuracy     : 0.9351\n",
      "Evaluating for batch size 1000\n"
     ]
    },
    {
     "output_type": "display_data",
     "data": {
      "text/plain": "Canvas(toolbar=Toolbar(toolitems=[('Home', 'Reset original view', 'home', 'home'), ('Back', 'Back to previous …",
      "application/vnd.jupyter.widget-view+json": {
       "version_major": 2,
       "version_minor": 0,
       "model_id": "1de9127d70b64d3d9f5fc042543121e3"
      }
     },
     "metadata": {}
    },
    {
     "output_type": "stream",
     "name": "stdout",
     "text": [
      "Prequential Evaluation\n",
      "Evaluating 1 target(s).\n",
      "Pre-training on 200 sample(s).\n",
      "Evaluating...\n",
      " ###################- [96%] [55.73s]\n",
      "Processed samples: 20200\n",
      "Mean performance:\n",
      "MV - Accuracy     : 0.9302\n",
      "WMV - Accuracy     : 0.9318\n"
     ]
    }
   ],
   "source": [
    "batch_sizes = [5, 10, 25, 50, 100, 200, 500, 1000]\n",
    "\n",
    "for batch_size in batch_sizes:\n",
    "    HT_online_classifier = HoeffdingTreeClassifier()\n",
    "    KNN_online_classifier = KNNClassifier()\n",
    "    MLP_online_classifier = MLPClassifier(hidden_layer_sizes=(200,4))\n",
    "\n",
    "    MV_online = VotingClassifier(estimators=[(\"HT\", HT_online_classifier), (\"KNN\", KNN_online_classifier), (\"MLP\", MLP_online_classifier)], voting='hard', weights=[1,1,1])\n",
    "    MV_online = BatchIncrementalClassifier(base_estimator=MV_online, n_estimators=3)\n",
    "\n",
    "    WMV_online = VotingClassifier(estimators=[(\"HT\", HT_online_classifier), (\"KNN\", KNN_online_classifier), (\"MLP\", MLP_online_classifier)], voting='hard')\n",
    "    WMV_online = BatchIncrementalClassifier(base_estimator=WMV_online, n_estimators=3)\n",
    "\n",
    "    print(\"Evaluating for batch size\", batch_size)\n",
    "    evaluator = EvaluatePrequential(show_plot=True, metrics=[\"accuracy\"], batch_size=batch_size)\n",
    "    evaluator.evaluate(stream=sea_dataset_read, model=[MV_online, WMV_online], model_names=[\"MV\", \"WMV\"])"
   ]
  },
  {
   "cell_type": "code",
   "execution_count": 24,
   "metadata": {},
   "outputs": [
    {
     "output_type": "stream",
     "name": "stdout",
     "text": [
      "Evaluating for batch size 5\n"
     ]
    },
    {
     "output_type": "display_data",
     "data": {
      "text/plain": "Canvas(toolbar=Toolbar(toolitems=[('Home', 'Reset original view', 'home', 'home'), ('Back', 'Back to previous …",
      "application/vnd.jupyter.widget-view+json": {
       "version_major": 2,
       "version_minor": 0,
       "model_id": "3d0910008c5b410d91d98cad12fe485c"
      }
     },
     "metadata": {}
    },
    {
     "output_type": "stream",
     "name": "stdout",
     "text": [
      "Prequential Evaluation\n",
      "Evaluating 1 target(s).\n",
      "Pre-training on 200 sample(s).\n",
      "Evaluating...\n",
      " #################### [100%] [57.94s]\n",
      "Processed samples: 20000\n",
      "Mean performance:\n",
      "MV - Accuracy     : 0.8411\n",
      "WMV - Accuracy     : 0.8398\n",
      "Evaluating for batch size 10\n"
     ]
    },
    {
     "output_type": "display_data",
     "data": {
      "text/plain": "Canvas(toolbar=Toolbar(toolitems=[('Home', 'Reset original view', 'home', 'home'), ('Back', 'Back to previous …",
      "application/vnd.jupyter.widget-view+json": {
       "version_major": 2,
       "version_minor": 0,
       "model_id": "18692450819a4c4c8db5f40fff3a5c2b"
      }
     },
     "metadata": {}
    },
    {
     "output_type": "stream",
     "name": "stdout",
     "text": [
      "Prequential Evaluation\n",
      "Evaluating 1 target(s).\n",
      "Pre-training on 200 sample(s).\n",
      "Evaluating...\n",
      " #################### [100%] [54.47s]\n",
      "Processed samples: 20000\n",
      "Mean performance:\n",
      "MV - Accuracy     : 0.8404\n",
      "WMV - Accuracy     : 0.8395\n",
      "Evaluating for batch size 25\n"
     ]
    },
    {
     "output_type": "display_data",
     "data": {
      "text/plain": "Canvas(toolbar=Toolbar(toolitems=[('Home', 'Reset original view', 'home', 'home'), ('Back', 'Back to previous …",
      "application/vnd.jupyter.widget-view+json": {
       "version_major": 2,
       "version_minor": 0,
       "model_id": "67ad8a33988040df9aa60c6d107d67c3"
      }
     },
     "metadata": {}
    },
    {
     "output_type": "stream",
     "name": "stdout",
     "text": [
      "Prequential Evaluation\n",
      "Evaluating 1 target(s).\n",
      "Pre-training on 200 sample(s).\n",
      "Evaluating...\n",
      " #################### [100%] [53.53s]\n",
      "Processed samples: 20000\n",
      "Mean performance:\n",
      "MV - Accuracy     : 0.8412\n",
      "WMV - Accuracy     : 0.8412\n",
      "Evaluating for batch size 50\n"
     ]
    },
    {
     "output_type": "display_data",
     "data": {
      "text/plain": "Canvas(toolbar=Toolbar(toolitems=[('Home', 'Reset original view', 'home', 'home'), ('Back', 'Back to previous …",
      "application/vnd.jupyter.widget-view+json": {
       "version_major": 2,
       "version_minor": 0,
       "model_id": "f6aab317024a40cf8a9c1d9918360dc2"
      }
     },
     "metadata": {}
    },
    {
     "output_type": "stream",
     "name": "stdout",
     "text": [
      "Prequential Evaluation\n",
      "Evaluating 1 target(s).\n",
      "Pre-training on 200 sample(s).\n",
      "Evaluating...\n",
      " #################### [100%] [52.71s]\n",
      "Processed samples: 20000\n",
      "Mean performance:\n",
      "MV - Accuracy     : 0.8401\n",
      "WMV - Accuracy     : 0.8414\n",
      "Evaluating for batch size 100\n"
     ]
    },
    {
     "output_type": "display_data",
     "data": {
      "text/plain": "Canvas(toolbar=Toolbar(toolitems=[('Home', 'Reset original view', 'home', 'home'), ('Back', 'Back to previous …",
      "application/vnd.jupyter.widget-view+json": {
       "version_major": 2,
       "version_minor": 0,
       "model_id": "5c766d0109b248e895e2db1bac45bc0f"
      }
     },
     "metadata": {}
    },
    {
     "output_type": "stream",
     "name": "stdout",
     "text": [
      "Prequential Evaluation\n",
      "Evaluating 1 target(s).\n",
      "Pre-training on 200 sample(s).\n",
      "Evaluating...\n",
      " #################### [100%] [51.01s]\n",
      "Processed samples: 20000\n",
      "Mean performance:\n",
      "MV - Accuracy     : 0.8408\n",
      "WMV - Accuracy     : 0.8395\n",
      "Evaluating for batch size 200\n"
     ]
    },
    {
     "output_type": "display_data",
     "data": {
      "text/plain": "Canvas(toolbar=Toolbar(toolitems=[('Home', 'Reset original view', 'home', 'home'), ('Back', 'Back to previous …",
      "application/vnd.jupyter.widget-view+json": {
       "version_major": 2,
       "version_minor": 0,
       "model_id": "6edd55f0bd8c4311bcc226a85adf40c6"
      }
     },
     "metadata": {}
    },
    {
     "output_type": "stream",
     "name": "stdout",
     "text": [
      "Prequential Evaluation\n",
      "Evaluating 1 target(s).\n",
      "Pre-training on 200 sample(s).\n",
      "Evaluating...\n",
      " #################### [99%] [48.84s]\n",
      "Processed samples: 20000\n",
      "Mean performance:\n",
      "MV - Accuracy     : 0.8419\n",
      "WMV - Accuracy     : 0.8435\n",
      "Evaluating for batch size 500\n"
     ]
    },
    {
     "output_type": "display_data",
     "data": {
      "text/plain": "Canvas(toolbar=Toolbar(toolitems=[('Home', 'Reset original view', 'home', 'home'), ('Back', 'Back to previous …",
      "application/vnd.jupyter.widget-view+json": {
       "version_major": 2,
       "version_minor": 0,
       "model_id": "fd94ac4dfb6e41ff950a8858e81b9223"
      }
     },
     "metadata": {}
    },
    {
     "output_type": "stream",
     "name": "stdout",
     "text": [
      "Prequential Evaluation\n",
      "Evaluating 1 target(s).\n",
      "Pre-training on 200 sample(s).\n",
      "Evaluating...\n",
      " #################### [98%] [53.60s]\n",
      "Processed samples: 20200\n",
      "Mean performance:\n",
      "MV - Accuracy     : 0.8483\n",
      "WMV - Accuracy     : 0.8474\n",
      "Evaluating for batch size 1000\n"
     ]
    },
    {
     "output_type": "display_data",
     "data": {
      "text/plain": "Canvas(toolbar=Toolbar(toolitems=[('Home', 'Reset original view', 'home', 'home'), ('Back', 'Back to previous …",
      "application/vnd.jupyter.widget-view+json": {
       "version_major": 2,
       "version_minor": 0,
       "model_id": "b709803811754de2bfb675e40edf4a92"
      }
     },
     "metadata": {}
    },
    {
     "output_type": "stream",
     "name": "stdout",
     "text": [
      "Prequential Evaluation\n",
      "Evaluating 1 target(s).\n",
      "Pre-training on 200 sample(s).\n",
      "Evaluating...\n",
      " ###################- [96%] [58.99s]\n",
      "Processed samples: 20200\n",
      "Mean performance:\n",
      "MV - Accuracy     : 0.8473\n",
      "WMV - Accuracy     : 0.8452\n"
     ]
    }
   ],
   "source": [
    "batch_sizes = [5, 10, 25, 50, 100, 200, 500, 1000]\n",
    "\n",
    "for batch_size in batch_sizes:\n",
    "    HT_online_classifier = HoeffdingTreeClassifier()\n",
    "    KNN_online_classifier = KNNClassifier()\n",
    "    MLP_online_classifier = MLPClassifier(hidden_layer_sizes=(200,4))\n",
    "\n",
    "    MV_online = VotingClassifier(estimators=[(\"HT\", HT_online_classifier), (\"KNN\", KNN_online_classifier), (\"MLP\", MLP_online_classifier)], voting='hard', weights=[1,1,1])\n",
    "    MV_online = BatchIncrementalClassifier(base_estimator=MV_online, n_estimators=3)\n",
    "\n",
    "    WMV_online = VotingClassifier(estimators=[(\"HT\", HT_online_classifier), (\"KNN\", KNN_online_classifier), (\"MLP\", MLP_online_classifier)], voting='hard')\n",
    "    WMV_online = BatchIncrementalClassifier(base_estimator=WMV_online, n_estimators=3)\n",
    "\n",
    "    print(\"Evaluating for batch size\", batch_size)\n",
    "    evaluator = EvaluatePrequential(show_plot=True, metrics=[\"accuracy\"], batch_size=batch_size)\n",
    "    evaluator.evaluate(stream=sea_dataset_read_10, model=[MV_online, WMV_online], model_names=[\"MV\", \"WMV\"])"
   ]
  },
  {
   "cell_type": "code",
   "execution_count": 25,
   "metadata": {},
   "outputs": [
    {
     "output_type": "stream",
     "name": "stdout",
     "text": [
      "Evaluating for batch size 5\n"
     ]
    },
    {
     "output_type": "display_data",
     "data": {
      "text/plain": "Canvas(toolbar=Toolbar(toolitems=[('Home', 'Reset original view', 'home', 'home'), ('Back', 'Back to previous …",
      "application/vnd.jupyter.widget-view+json": {
       "version_major": 2,
       "version_minor": 0,
       "model_id": "cc76d2323ac8475eba7357533e73d7df"
      }
     },
     "metadata": {}
    },
    {
     "output_type": "stream",
     "name": "stdout",
     "text": [
      "Prequential Evaluation\n",
      "Evaluating 1 target(s).\n",
      "Pre-training on 200 sample(s).\n",
      "Evaluating...\n",
      " #################### [100%] [57.87s]\n",
      "Processed samples: 20000\n",
      "Mean performance:\n",
      "MV - Accuracy     : 0.6113\n",
      "WMV - Accuracy     : 0.6099\n",
      "Evaluating for batch size 10\n"
     ]
    },
    {
     "output_type": "display_data",
     "data": {
      "text/plain": "Canvas(toolbar=Toolbar(toolitems=[('Home', 'Reset original view', 'home', 'home'), ('Back', 'Back to previous …",
      "application/vnd.jupyter.widget-view+json": {
       "version_major": 2,
       "version_minor": 0,
       "model_id": "00fb890a256e4483bae32383d6298286"
      }
     },
     "metadata": {}
    },
    {
     "output_type": "stream",
     "name": "stdout",
     "text": [
      "Prequential Evaluation\n",
      "Evaluating 1 target(s).\n",
      "Pre-training on 200 sample(s).\n",
      "Evaluating...\n",
      " #################### [100%] [53.11s]\n",
      "Processed samples: 20000\n",
      "Mean performance:\n",
      "MV - Accuracy     : 0.6062\n",
      "WMV - Accuracy     : 0.6063\n",
      "Evaluating for batch size 25\n"
     ]
    },
    {
     "output_type": "display_data",
     "data": {
      "text/plain": "Canvas(toolbar=Toolbar(toolitems=[('Home', 'Reset original view', 'home', 'home'), ('Back', 'Back to previous …",
      "application/vnd.jupyter.widget-view+json": {
       "version_major": 2,
       "version_minor": 0,
       "model_id": "b130f3f55e494392bd512555ed1e605b"
      }
     },
     "metadata": {}
    },
    {
     "output_type": "stream",
     "name": "stdout",
     "text": [
      "Prequential Evaluation\n",
      "Evaluating 1 target(s).\n",
      "Pre-training on 200 sample(s).\n",
      "Evaluating...\n",
      " #################### [100%] [51.37s]\n",
      "Processed samples: 20000\n",
      "Mean performance:\n",
      "MV - Accuracy     : 0.6070\n",
      "WMV - Accuracy     : 0.6101\n",
      "Evaluating for batch size 50\n"
     ]
    },
    {
     "output_type": "display_data",
     "data": {
      "text/plain": "Canvas(toolbar=Toolbar(toolitems=[('Home', 'Reset original view', 'home', 'home'), ('Back', 'Back to previous …",
      "application/vnd.jupyter.widget-view+json": {
       "version_major": 2,
       "version_minor": 0,
       "model_id": "a73614397c63471fadb1acb290670d58"
      }
     },
     "metadata": {}
    },
    {
     "output_type": "stream",
     "name": "stdout",
     "text": [
      "Prequential Evaluation\n",
      "Evaluating 1 target(s).\n",
      "Pre-training on 200 sample(s).\n",
      "Evaluating...\n",
      " #################### [100%] [53.36s]\n",
      "Processed samples: 20000\n",
      "Mean performance:\n",
      "MV - Accuracy     : 0.6086\n",
      "WMV - Accuracy     : 0.6120\n",
      "Evaluating for batch size 100\n"
     ]
    },
    {
     "output_type": "display_data",
     "data": {
      "text/plain": "Canvas(toolbar=Toolbar(toolitems=[('Home', 'Reset original view', 'home', 'home'), ('Back', 'Back to previous …",
      "application/vnd.jupyter.widget-view+json": {
       "version_major": 2,
       "version_minor": 0,
       "model_id": "387e968d8f51470ea18af7654e3e5e18"
      }
     },
     "metadata": {}
    },
    {
     "output_type": "stream",
     "name": "stdout",
     "text": [
      "Prequential Evaluation\n",
      "Evaluating 1 target(s).\n",
      "Pre-training on 200 sample(s).\n",
      "Evaluating...\n",
      " #################### [100%] [51.49s]\n",
      "Processed samples: 20000\n",
      "Mean performance:\n",
      "MV - Accuracy     : 0.6091\n",
      "WMV - Accuracy     : 0.6108\n",
      "Evaluating for batch size 200\n"
     ]
    },
    {
     "output_type": "display_data",
     "data": {
      "text/plain": "Canvas(toolbar=Toolbar(toolitems=[('Home', 'Reset original view', 'home', 'home'), ('Back', 'Back to previous …",
      "application/vnd.jupyter.widget-view+json": {
       "version_major": 2,
       "version_minor": 0,
       "model_id": "c91c250c322d4846801e3eb234855366"
      }
     },
     "metadata": {}
    },
    {
     "output_type": "stream",
     "name": "stdout",
     "text": [
      "Prequential Evaluation\n",
      "Evaluating 1 target(s).\n",
      "Pre-training on 200 sample(s).\n",
      "Evaluating...\n",
      " #################### [99%] [51.78s]\n",
      "Processed samples: 20000\n",
      "Mean performance:\n",
      "MV - Accuracy     : 0.6122\n",
      "WMV - Accuracy     : 0.6131\n",
      "Evaluating for batch size 500\n"
     ]
    },
    {
     "output_type": "display_data",
     "data": {
      "text/plain": "Canvas(toolbar=Toolbar(toolitems=[('Home', 'Reset original view', 'home', 'home'), ('Back', 'Back to previous …",
      "application/vnd.jupyter.widget-view+json": {
       "version_major": 2,
       "version_minor": 0,
       "model_id": "9715ba9754eb43d8a6198624ca76ef21"
      }
     },
     "metadata": {}
    },
    {
     "output_type": "stream",
     "name": "stdout",
     "text": [
      "Prequential Evaluation\n",
      "Evaluating 1 target(s).\n",
      "Pre-training on 200 sample(s).\n",
      "Evaluating...\n",
      " #################### [98%] [53.06s]\n",
      "Processed samples: 20200\n",
      "Mean performance:\n",
      "MV - Accuracy     : 0.6067\n",
      "WMV - Accuracy     : 0.6108\n",
      "Evaluating for batch size 1000\n"
     ]
    },
    {
     "output_type": "display_data",
     "data": {
      "text/plain": "Canvas(toolbar=Toolbar(toolitems=[('Home', 'Reset original view', 'home', 'home'), ('Back', 'Back to previous …",
      "application/vnd.jupyter.widget-view+json": {
       "version_major": 2,
       "version_minor": 0,
       "model_id": "c5e11f3e05024b55ab2febf9e78ffc65"
      }
     },
     "metadata": {}
    },
    {
     "output_type": "stream",
     "name": "stdout",
     "text": [
      "Prequential Evaluation\n",
      "Evaluating 1 target(s).\n",
      "Pre-training on 200 sample(s).\n",
      "Evaluating...\n",
      " ###################- [96%] [52.82s]\n",
      "Processed samples: 20200\n",
      "Mean performance:\n",
      "MV - Accuracy     : 0.6023\n",
      "WMV - Accuracy     : 0.6105\n"
     ]
    }
   ],
   "source": [
    "batch_sizes = [5, 10, 25, 50, 100, 200, 500, 1000]\n",
    "\n",
    "for batch_size in batch_sizes:\n",
    "    HT_online_classifier = HoeffdingTreeClassifier()\n",
    "    KNN_online_classifier = KNNClassifier()\n",
    "    MLP_online_classifier = MLPClassifier(hidden_layer_sizes=(200,4))\n",
    "\n",
    "    MV_online = VotingClassifier(estimators=[(\"HT\", HT_online_classifier), (\"KNN\", KNN_online_classifier), (\"MLP\", MLP_online_classifier)], voting='hard', weights=[1,1,1])\n",
    "    MV_online = BatchIncrementalClassifier(base_estimator=MV_online, n_estimators=3)\n",
    "\n",
    "    WMV_online = VotingClassifier(estimators=[(\"HT\", HT_online_classifier), (\"KNN\", KNN_online_classifier), (\"MLP\", MLP_online_classifier)], voting='hard')\n",
    "    WMV_online = BatchIncrementalClassifier(base_estimator=WMV_online, n_estimators=3)\n",
    "\n",
    "    print(\"Evaluating for batch size\", batch_size)\n",
    "    evaluator = EvaluatePrequential(show_plot=True, metrics=[\"accuracy\"], batch_size=batch_size)\n",
    "    evaluator.evaluate(stream=sea_dataset_read_70, model=[MV_online, WMV_online], model_names=[\"MV\", \"WMV\"])"
   ]
  },
  {
   "source": [
    "# Batch Learning"
   ],
   "cell_type": "markdown",
   "metadata": {}
  },
  {
   "source": [
    "## Read data to np array"
   ],
   "cell_type": "markdown",
   "metadata": {}
  },
  {
   "cell_type": "code",
   "execution_count": 22,
   "metadata": {},
   "outputs": [],
   "source": [
    "sea_dataset = pd.read_csv(\"SEA Dataset.csv\").values\n",
    "sea_dataset_features = sea_dataset[:,:3]\n",
    "sea_dataset_labels = np.array(sea_dataset[:,3], dtype=int)\n",
    "train_features, test_features, train_labels, test_labels = train_test_split(sea_dataset_features, sea_dataset_labels, test_size=0.2, random_state=42)\n",
    "\n",
    "sea_dataset_10 = pd.read_csv(\"SEA Dataset 10.csv\").values\n",
    "sea_dataset_features_10 = sea_dataset_10[:,:3]\n",
    "sea_dataset_labels_10 = np.array(sea_dataset_10[:,3], dtype=int)\n",
    "train_features_10, test_features_10, train_labels_10, test_labels_10 = train_test_split(sea_dataset_features_10, sea_dataset_labels_10, test_size=0.2, random_state=42)\n",
    "\n",
    "sea_dataset_70 = pd.read_csv(\"SEA Dataset 70.csv\").values\n",
    "sea_dataset_features_70 = sea_dataset_70[:,:3]\n",
    "sea_dataset_labels_70 = np.array(sea_dataset_70[:,3], dtype=int)\n",
    "train_features_70, test_features_70, train_labels_70, test_labels_70 = train_test_split(sea_dataset_features_70, sea_dataset_labels_70, test_size=0.2, random_state=42)"
   ]
  },
  {
   "source": [
    "## Batch Classification with Three Separate Batch Single Classifiers: HT, NB, MLP"
   ],
   "cell_type": "markdown",
   "metadata": {}
  },
  {
   "cell_type": "code",
   "execution_count": 23,
   "metadata": {},
   "outputs": [],
   "source": [
    "HT_batch_classifier = HoeffdingTreeClassifier()\n",
    "KNN_batch_classifier = KNNClassifier()\n",
    "MLP_batch_classifier = MLPClassifier(hidden_layer_sizes=(200,4))"
   ]
  },
  {
   "cell_type": "code",
   "execution_count": 24,
   "metadata": {},
   "outputs": [
    {
     "output_type": "stream",
     "name": "stdout",
     "text": [
      "Accuracy of Batch HT on SEA Dataset is: 0.97975\nAccuracy of Batch KNN on SEA Dataset is: 0.9645\nAccuracy of Batch MLP on SEA Dataset is: 0.99575\n"
     ]
    }
   ],
   "source": [
    "HT_batch_classifier.fit(train_features, train_labels)\n",
    "pred_HT = HT_batch_classifier.predict(test_features)\n",
    "acc_HT = accuracy_score(test_labels, pred_HT)\n",
    "\n",
    "KNN_batch_classifier.fit(train_features, train_labels)\n",
    "pred_KNN = KNN_batch_classifier.predict(test_features)\n",
    "acc_KNN = accuracy_score(test_labels, pred_KNN)\n",
    "\n",
    "MLP_batch_classifier.fit(train_features, train_labels)\n",
    "pred_MLP = MLP_batch_classifier.predict(test_features)\n",
    "acc_MLP = accuracy_score(test_labels, pred_MLP)\n",
    "\n",
    "print(\"Accuracy of Batch HT on SEA Dataset is:\", acc_HT)\n",
    "print(\"Accuracy of Batch KNN on SEA Dataset is:\", acc_KNN)\n",
    "print(\"Accuracy of Batch MLP on SEA Dataset is:\", acc_MLP)"
   ]
  },
  {
   "cell_type": "code",
   "execution_count": 25,
   "metadata": {},
   "outputs": [
    {
     "output_type": "stream",
     "name": "stdout",
     "text": [
      "Accuracy of Batch HT on SEA Dataset10 is: 0.89225\nAccuracy of Batch KNN on SEA Dataset10 is: 0.863\nAccuracy of Batch MLP on SEA Dataset10 is: 0.9045\n"
     ]
    }
   ],
   "source": [
    "HT_batch_classifier.fit(train_features_10, train_labels_10)\n",
    "pred_HT = HT_batch_classifier.predict(test_features_10)\n",
    "acc_HT = accuracy_score(test_labels_10, pred_HT)\n",
    "\n",
    "KNN_batch_classifier.fit(train_features_10, train_labels_10)\n",
    "pred_KNN = KNN_batch_classifier.predict(test_features_10)\n",
    "acc_KNN = accuracy_score(test_labels_10, pred_KNN)\n",
    "\n",
    "MLP_batch_classifier.fit(train_features_10, train_labels_10)\n",
    "pred_MLP = MLP_batch_classifier.predict(test_features_10)\n",
    "acc_MLP = accuracy_score(test_labels_10, pred_MLP)\n",
    "\n",
    "print(\"Accuracy of Batch HT on SEA Dataset10 is:\", acc_HT)\n",
    "print(\"Accuracy of Batch KNN on SEA Dataset10 is:\", acc_KNN)\n",
    "print(\"Accuracy of Batch MLP on SEA Dataset10 is:\", acc_MLP)"
   ]
  },
  {
   "cell_type": "code",
   "execution_count": 26,
   "metadata": {},
   "outputs": [
    {
     "output_type": "stream",
     "name": "stdout",
     "text": [
      "Accuracy of Batch HT on SEA Dataset70 is: 0.33675\nAccuracy of Batch KNN on SEA Dataset70 is: 0.609\nAccuracy of Batch MLP on SEA Dataset70 is: 0.68475\n"
     ]
    }
   ],
   "source": [
    "HT_batch_classifier.fit(train_features_70, train_labels_70)\n",
    "pred_HT = HT_batch_classifier.predict(test_features_70)\n",
    "acc_HT = accuracy_score(test_labels_70, pred_HT)\n",
    "\n",
    "KNN_batch_classifier.fit(train_features_70, train_labels_70)\n",
    "pred_KNN = KNN_batch_classifier.predict(test_features_70)\n",
    "acc_KNN = accuracy_score(test_labels_70, pred_KNN)\n",
    "\n",
    "MLP_batch_classifier.fit(train_features_70, train_labels_70)\n",
    "pred_MLP = MLP_batch_classifier.predict(test_features_70)\n",
    "acc_MLP = accuracy_score(test_labels_70, pred_MLP)\n",
    "\n",
    "print(\"Accuracy of Batch HT on SEA Dataset70 is:\", acc_HT)\n",
    "print(\"Accuracy of Batch KNN on SEA Dataset70 is:\", acc_KNN)\n",
    "print(\"Accuracy of Batch MLP on SEA Dataset70 is:\", acc_MLP)"
   ]
  },
  {
   "source": [
    "## Batch Classification with Two Batch Ensemble Classifiers: MV, WMV"
   ],
   "cell_type": "markdown",
   "metadata": {}
  },
  {
   "cell_type": "code",
   "execution_count": 31,
   "metadata": {},
   "outputs": [],
   "source": [
    "HT_batch_classifier = HoeffdingTreeClassifier()\n",
    "KNN_batch_classifier = KNNClassifier()\n",
    "MLP_batch_classifier = MLPClassifier(hidden_layer_sizes=(200,4))"
   ]
  },
  {
   "cell_type": "code",
   "execution_count": 32,
   "metadata": {},
   "outputs": [
    {
     "output_type": "stream",
     "name": "stdout",
     "text": [
      "Accuracy of MV Batch Ensemble on SEA Dataset is: 0.98775\nAccuracy of WMV Batch Ensemble on SEA Dataset is: 0.98775\n"
     ]
    }
   ],
   "source": [
    "MV_batch = VotingClassifier(estimators=[(\"HT\", HT_batch_classifier), (\"KNN\", KNN_batch_classifier), (\"MLP\", MLP_batch_classifier)], voting='hard', weights=[1,1,1])\n",
    "MV_batch.fit(train_features, train_labels)\n",
    "pred_MV = MV_batch.predict(test_features)\n",
    "acc_MV = accuracy_score(test_labels, pred_MV)\n",
    "\n",
    "WMV_batch = VotingClassifier(estimators=[(\"HT\", HT_batch_classifier), (\"KNN\", KNN_batch_classifier), (\"MLP\", MLP_batch_classifier)], voting='hard')\n",
    "WMV_batch.fit(train_features, train_labels)\n",
    "pred_WMV = WMV_batch.predict(test_features)\n",
    "acc_WMV = accuracy_score(test_labels, pred_WMV)\n",
    "\n",
    "print(\"Accuracy of MV Batch Ensemble on SEA Dataset is:\", acc_MV)\n",
    "print(\"Accuracy of WMV Batch Ensemble on SEA Dataset is:\", acc_WMV)"
   ]
  },
  {
   "cell_type": "code",
   "execution_count": 29,
   "metadata": {},
   "outputs": [
    {
     "output_type": "stream",
     "name": "stdout",
     "text": [
      "Accuracy of MV Batch Ensemble on SEA Dataset10 is: 0.893\nAccuracy of WMV Batch Ensemble on SEA Dataset10 is: 0.891\n"
     ]
    }
   ],
   "source": [
    "MV_batch = VotingClassifier(estimators=[(\"HT\", HT_batch_classifier), (\"KNN\", KNN_batch_classifier), (\"MLP\", MLP_batch_classifier)], voting='hard', weights=[1,1,1])\n",
    "MV_batch.fit(train_features_10, train_labels_10)\n",
    "pred_MV = MV_batch.predict(test_features_10)\n",
    "acc_MV = accuracy_score(test_labels_10, pred_MV)\n",
    "\n",
    "WMV_batch = VotingClassifier(estimators=[(\"HT\", HT_batch_classifier), (\"KNN\", KNN_batch_classifier), (\"MLP\", MLP_batch_classifier)], voting='hard')\n",
    "WMV_batch.fit(train_features_10, train_labels_10)\n",
    "pred_WMV = WMV_batch.predict(test_features_10)\n",
    "acc_WMV = accuracy_score(test_labels_10, pred_WMV)\n",
    "\n",
    "print(\"Accuracy of MV Batch Ensemble on SEA Dataset10 is:\", acc_MV)\n",
    "print(\"Accuracy of WMV Batch Ensemble on SEA Dataset10 is:\", acc_WMV)"
   ]
  },
  {
   "cell_type": "code",
   "execution_count": 30,
   "metadata": {},
   "outputs": [
    {
     "output_type": "stream",
     "name": "stdout",
     "text": [
      "Accuracy of MV Batch Ensemble on SEA Dataset70 is: 0.679\nAccuracy of WMV Batch Ensemble on SEA Dataset70 is: 0.67525\n"
     ]
    }
   ],
   "source": [
    "MV_batch = VotingClassifier(estimators=[(\"HT\", HT_batch_classifier), (\"KNN\", KNN_batch_classifier), (\"MLP\", MLP_batch_classifier)], voting='hard', weights=[1,1,1])\n",
    "MV_batch.fit(train_features_70, train_labels_70)\n",
    "pred_MV = MV_batch.predict(test_features_70)\n",
    "acc_MV = accuracy_score(test_labels_70, pred_MV)\n",
    "\n",
    "WMV_batch = VotingClassifier(estimators=[(\"HT\", HT_batch_classifier), (\"KNN\", KNN_batch_classifier), (\"MLP\", MLP_batch_classifier)], voting='hard')\n",
    "WMV_batch.fit(train_features_70, train_labels_70)\n",
    "pred_WMV = WMV_batch.predict(test_features_70)\n",
    "acc_WMV = accuracy_score(test_labels_70, pred_WMV)\n",
    "\n",
    "print(\"Accuracy of MV Batch Ensemble on SEA Dataset70 is:\", acc_MV)\n",
    "print(\"Accuracy of WMV Batch Ensemble on SEA Dataset70 is:\", acc_WMV)"
   ]
  },
  {
   "source": [
    "HT_batch_classifier.fit(train_features, train_labels)\n",
    "pred_HT = HT_batch_classifier.predict(test_features)\n",
    "acc_HT = accuracy_score(test_labels, pred_HT)\n",
    "\n",
    "KNN_batch_classifier.fit(train_features, train_labels)\n",
    "pred_KNN = KNN_batch_classifier.predict(test_features)\n",
    "acc_KNN = accuracy_score(test_labels, pred_KNN)\n",
    "\n",
    "MLP_batch_classifier.fit(train_features, train_labels)\n",
    "pred_MLP = MLP_batch_classifier.predict(test_features)\n",
    "acc_MLP = accuracy_score(test_labels, pred_MLP)\n",
    "\n",
    "print(\"Accuracy of Batch HT on SEA Dataset is:\", acc_HT)\n",
    "print(\"Accuracy of Batch KNN on SEA Dataset is:\", acc_KNN)\n",
    "print(\"Accuracy of Batch MLP on SEA Dataset is:\", acc_MLP)"
   ],
   "cell_type": "markdown",
   "metadata": {}
  },
  {
   "cell_type": "code",
   "execution_count": 56,
   "metadata": {},
   "outputs": [
    {
     "output_type": "display_data",
     "data": {
      "text/plain": "Canvas(toolbar=Toolbar(toolitems=[('Home', 'Reset original view', 'home', 'home'), ('Back', 'Back to previous …",
      "application/vnd.jupyter.widget-view+json": {
       "version_major": 2,
       "version_minor": 0,
       "model_id": "febb9639eefc41db9c3034258e9105bf"
      }
     },
     "metadata": {}
    },
    {
     "output_type": "stream",
     "name": "stdout",
     "text": [
      "Prequential Evaluation\n",
      "Evaluating 1 target(s).\n",
      "Pre-training on 200 sample(s).\n",
      "Evaluating...\n",
      " #################### [100%] [176.01s]\n",
      "Processed samples: 20000\n",
      "Mean performance:\n",
      "KNN - Online - Accuracy     : 0.6112\n",
      "Random Forest - Accuracy     : 0.6645\n"
     ]
    },
    {
     "output_type": "execute_result",
     "data": {
      "text/plain": [
       "[KNNClassifier(leaf_size=30, max_window_size=1000, metric='euclidean',\n",
       "               n_neighbors=5),\n",
       " AdaptiveRandomForestClassifier(binary_split=False, disable_weighted_vote=False,\n",
       "                                drift_detection_method=ADWIN(delta=0.001),\n",
       "                                grace_period=50, lambda_value=6,\n",
       "                                leaf_prediction='nba', max_byte_size=33554432,\n",
       "                                max_features=2, memory_estimate_period=2000000,\n",
       "                                n_estimators=10, nb_threshold=0,\n",
       "                                no_preprune=False, nominal_attributes=None,\n",
       "                                performance_metric='acc', random_state=None,\n",
       "                                remove_poor_atts=False, split_confidence=0.01,\n",
       "                                split_criterion='info_gain',\n",
       "                                stop_mem_management=False, tie_threshold=0.05,\n",
       "                                warning_detection_method=ADWIN(delta=0.01))]"
      ]
     },
     "metadata": {},
     "execution_count": 56
    }
   ],
   "source": [
    "## Accuracy Improvement"
   ]
  },
  {
   "cell_type": "code",
   "execution_count": 59,
   "metadata": {},
   "outputs": [
    {
     "output_type": "display_data",
     "data": {
      "text/plain": "Canvas(toolbar=Toolbar(toolitems=[('Home', 'Reset original view', 'home', 'home'), ('Back', 'Back to previous …",
      "application/vnd.jupyter.widget-view+json": {
       "version_major": 2,
       "version_minor": 0,
       "model_id": "760575b4657b4c2284595d6031151dbe"
      }
     },
     "metadata": {}
    },
    {
     "output_type": "stream",
     "name": "stdout",
     "text": [
      "Prequential Evaluation\n",
      "Evaluating 1 target(s).\n",
      "Pre-training on 200 sample(s).\n",
      "Evaluating...\n",
      " #################### [100%] [84.49s]\n",
      "Processed samples: 20000\n",
      "Mean performance:\n",
      "KNN - Accuracy     : 0.6112\n",
      "DWM - Accuracy     : 0.6690\n"
     ]
    },
    {
     "output_type": "execute_result",
     "data": {
      "text/plain": [
       "[KNNClassifier(leaf_size=30, max_window_size=1000, metric='euclidean',\n",
       "               n_neighbors=5),\n",
       " DynamicWeightedMajorityClassifier(base_estimator=NaiveBayes(nominal_attributes=None),\n",
       "                                   beta=0.5,\n",
       "                                   n_estimators=KNNClassifier(leaf_size=30,\n",
       "                                                              max_window_size=1000,\n",
       "                                                              metric='euclidean',\n",
       "                                                              n_neighbors=5),\n",
       "                                   period=50, theta=0.01)]"
      ]
     },
     "metadata": {},
     "execution_count": 59
    }
   ],
   "source": [
    "from skmultiflow.meta import AdaptiveRandomForestClassifier\n",
    "\n",
    "random_forest_classifier = AdaptiveRandomForestClassifier()\n",
    "KNN_online_classifier = KNNClassifier()\n",
    "\n",
    "evaluator = EvaluatePrequential(show_plot=True, metrics=[\"accuracy\"])\n",
    "\n",
    "evaluator.evaluate(stream=sea_dataset_read_70, model=[KNN_online_classifier, random_forest_classifier], model_names=[\"KNN - Online\", \"Random Forest\"])\n"
   ]
  },
  {
   "cell_type": "code",
   "execution_count": null,
   "metadata": {},
   "outputs": [],
   "source": [
    "from skmultiflow.meta import DynamicWeightedMajorityClassifier\n",
    "\n",
    "knn = KNNClassifier()\n",
    "dwm = DynamicWeightedMajorityClassifier(knn)\n",
    "\n",
    "KNN_online_classifier = KNNClassifier()\n",
    "\n",
    "evaluator = EvaluatePrequential(show_plot=True, metrics=[\"accuracy\"])\n",
    "\n",
    "evaluator.evaluate(stream=sea_dataset_read_70, model=[KNN_online_classifier, dwm], model_names=[\"KNN\", \"DWM\"])"
   ]
  }
 ]
}